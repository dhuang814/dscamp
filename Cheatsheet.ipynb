{
 "cells": [
  {
   "cell_type": "markdown",
   "id": "ac783bb9",
   "metadata": {},
   "source": [
    "## Checking for missing values:"
   ]
  },
  {
   "cell_type": "code",
   "execution_count": null,
   "id": "c4f0ffd4",
   "metadata": {},
   "outputs": [],
   "source": [
    "print(df.isna().sum())"
   ]
  },
  {
   "cell_type": "markdown",
   "id": "996720cb",
   "metadata": {},
   "source": [
    "Good practice is to set up a threshold filter of 5% of the df."
   ]
  },
  {
   "cell_type": "code",
   "execution_count": null,
   "id": "aec28cce",
   "metadata": {},
   "outputs": [],
   "source": [
    "Threshold = len(df) * .05"
   ]
  },
  {
   "cell_type": "markdown",
   "id": "27ffd6ce",
   "metadata": {},
   "source": [
    "We will be using that as a filter, dropping columns where df.isna().sum() is less than the threshold.\n",
    "Then assigning those who have less then threshold to new df called recs to drop. this code will drop rows that have missing values within columns"
   ]
  },
  {
   "cell_type": "code",
   "execution_count": null,
   "id": "fc353e29",
   "metadata": {},
   "outputs": [],
   "source": [
    "recs_to_drop = df.columns[df.isna().sum() <= threshold]"
   ]
  },
  {
   "cell_type": "markdown",
   "id": "ed0f2661",
   "metadata": {},
   "source": [
    "actually dropping those records"
   ]
  },
  {
   "cell_type": "code",
   "execution_count": null,
   "id": "c121f62d",
   "metadata": {},
   "outputs": [],
   "source": [
    "df.dropna(subset=recs_to_drop, inplace=True)"
   ]
  },
  {
   "cell_type": "markdown",
   "id": "d84b1632",
   "metadata": {},
   "source": [
    "## Imputing summary statistic"
   ]
  },
  {
   "cell_type": "markdown",
   "id": "58467760",
   "metadata": {},
   "source": [
    "fill all missing records with column's mode"
   ]
  },
  {
   "cell_type": "code",
   "execution_count": null,
   "id": "c5e6d179",
   "metadata": {},
   "outputs": [],
   "source": [
    "cols_with_missing_values = df.columns[df.isna().sum() > 0]\n",
    "for col in cols_with_missing_values[:-1]:\n",
    "    df[col].fillna(df[col].mode()[0])\n"
   ]
  },
  {
   "cell_type": "markdown",
   "id": "0431a2bd",
   "metadata": {},
   "source": [
    "### imputting by subgroup"
   ]
  },
  {
   "cell_type": "markdown",
   "id": "712f095b",
   "metadata": {},
   "source": [
    " Calculate median col2 by col1 and convert to a dictionary. col2 is quantative and col1 is categorical"
   ]
  },
  {
   "cell_type": "code",
   "execution_count": null,
   "id": "767c3ba6",
   "metadata": {},
   "outputs": [],
   "source": [
    "groupby_col1_col2 = df.groupby(\"col1\")[\"col2\"].median()\n",
    "df_dict = groupby_col1_col2.to_dict()"
   ]
  },
  {
   "cell_type": "markdown",
   "id": "f8e7a47c",
   "metadata": {},
   "source": [
    "Map the dictionary to missing values of col2 to col1"
   ]
  },
  {
   "cell_type": "code",
   "execution_count": null,
   "id": "c612ea88",
   "metadata": {},
   "outputs": [],
   "source": [
    "df[\"col2\"] = df[\"col2\"].fillna(df[\"col1\"].map(prices_dict))"
   ]
  },
  {
   "cell_type": "markdown",
   "id": "1c90bad3",
   "metadata": {},
   "source": [
    "## Converting and analyzing categorical data "
   ]
  },
  {
   "cell_type": "code",
   "execution_count": null,
   "id": "d7eca8dd",
   "metadata": {},
   "outputs": [],
   "source": []
  },
  {
   "cell_type": "markdown",
   "id": "f27fc0be",
   "metadata": {},
   "source": [
    "## Handling Outliers"
   ]
  },
  {
   "cell_type": "markdown",
   "id": "8f4640bd",
   "metadata": {},
   "source": [
    "### Using interquatile range"
   ]
  },
  {
   "cell_type": "markdown",
   "id": "cb8cb535",
   "metadata": {},
   "source": [
    "IQR = 75th - 25th percentile\n",
    "Upper Outlier > 75th percentile + (1.5 * IQR)\n",
    "Lower Outlier < 25th percentile - (1.5 * IQR)"
   ]
  },
  {
   "cell_type": "markdown",
   "id": "48be8bb9",
   "metadata": {},
   "source": [
    "Identifying IQR"
   ]
  },
  {
   "cell_type": "code",
   "execution_count": null,
   "id": "9c5592e5",
   "metadata": {},
   "outputs": [],
   "source": [
    "75th = df['col1'].quantile(.75)\n",
    "25th = df['col1'].quantile(.25)\n",
    "col1_IQR = 75th - 25th"
   ]
  },
  {
   "cell_type": "markdown",
   "id": "0171a41c",
   "metadata": {},
   "source": [
    "Identifying thresholds"
   ]
  },
  {
   "cell_type": "code",
   "execution_count": null,
   "id": "cc4adce5",
   "metadata": {},
   "outputs": [],
   "source": [
    "upper_threshold = 75th + (1.5 * col1_iqr)\n",
    "lower_threshold = 25th - (1.5 * col1_iqr)"
   ]
  },
  {
   "cell_type": "markdown",
   "id": "6104b2a3",
   "metadata": {},
   "source": [
    "Subsetting/filtering our data to check reasonability"
   ]
  },
  {
   "cell_type": "code",
   "execution_count": null,
   "id": "34d4d702",
   "metadata": {},
   "outputs": [],
   "source": [
    "df[(df['col1'] < lower_threshold) | (df['col1'] > upper_threshold)] \\\n",
    "   [['col1','col2','col3']]"
   ]
  },
  {
   "cell_type": "code",
   "execution_count": null,
   "id": "708c4fef",
   "metadata": {},
   "outputs": [],
   "source": [
    "#data within range\n",
    "df[(df['col1'] > lower_threshold) | (df['col1'] < upper_threshold)]"
   ]
  },
  {
   "cell_type": "markdown",
   "id": "613e8d48",
   "metadata": {},
   "source": [
    "dropping outliers"
   ]
  },
  {
   "cell_type": "code",
   "execution_count": null,
   "id": "6f085b43",
   "metadata": {},
   "outputs": [],
   "source": [
    "outliers = df[(df['col1'] < lower_threshold) & (df['col1'] > upper_threshold)]"
   ]
  },
  {
   "cell_type": "code",
   "execution_count": null,
   "id": "b2e6c978",
   "metadata": {},
   "outputs": [],
   "source": [
    "Patterns over time"
   ]
  },
  {
   "cell_type": "code",
   "execution_count": null,
   "id": "44af9189",
   "metadata": {},
   "outputs": [],
   "source": [
    "Correlation"
   ]
  },
  {
   "cell_type": "code",
   "execution_count": null,
   "id": "5853a9ce",
   "metadata": {},
   "outputs": [],
   "source": [
    "Distributions"
   ]
  },
  {
   "cell_type": "code",
   "execution_count": null,
   "id": "be62fc50",
   "metadata": {},
   "outputs": [],
   "source": [
    "Cross-tabulation"
   ]
  },
  {
   "cell_type": "code",
   "execution_count": null,
   "id": "9df75c17",
   "metadata": {},
   "outputs": [],
   "source": [
    "pd.cut"
   ]
  },
  {
   "cell_type": "code",
   "execution_count": null,
   "id": "d79efb3e",
   "metadata": {},
   "outputs": [],
   "source": [
    "data snooping"
   ]
  }
 ],
 "metadata": {
  "kernelspec": {
   "display_name": "Python 3 (ipykernel)",
   "language": "python",
   "name": "python3"
  },
  "language_info": {
   "codemirror_mode": {
    "name": "ipython",
    "version": 3
   },
   "file_extension": ".py",
   "mimetype": "text/x-python",
   "name": "python",
   "nbconvert_exporter": "python",
   "pygments_lexer": "ipython3",
   "version": "3.11.3"
  }
 },
 "nbformat": 4,
 "nbformat_minor": 5
}
