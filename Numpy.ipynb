{
 "cells": [
  {
   "cell_type": "markdown",
   "id": "80b0cfeb",
   "metadata": {},
   "source": [
    "## List vs Array"
   ]
  },
  {
   "cell_type": "markdown",
   "id": "4a9c5be9",
   "metadata": {},
   "source": [
    "import to know difference between list and array\n",
    "\n",
    "What are python lists?\n",
    "An order sequence of heterogeneous elements"
   ]
  },
  {
   "cell_type": "code",
   "execution_count": 3,
   "id": "4c9abaf3",
   "metadata": {},
   "outputs": [
    {
     "name": "stdout",
     "output_type": "stream",
     "text": [
      "apple\n"
     ]
    }
   ],
   "source": [
    "stuff = [1, 'apple', 'foo']\n",
    "print(stuff[1])"
   ]
  },
  {
   "cell_type": "markdown",
   "id": "34fb721a",
   "metadata": {},
   "source": [
    "What are python arrays?\n",
    "An order sequence of homogeneous elements"
   ]
  },
  {
   "cell_type": "code",
   "execution_count": 6,
   "id": "a3362878",
   "metadata": {},
   "outputs": [
    {
     "name": "stdout",
     "output_type": "stream",
     "text": [
      "array('i', [1, 2, 3, 4, 5])\n"
     ]
    }
   ],
   "source": [
    "import array\n",
    "numbers = array.array('i',[1,2,3,4,5]) #'i' works here because it is a type code, signifies that 'i' only accepts integers\n",
    "print(numbers)"
   ]
  },
  {
   "cell_type": "code",
   "execution_count": 4,
   "id": "12234cb0",
   "metadata": {},
   "outputs": [
    {
     "name": "stdout",
     "output_type": "stream",
     "text": [
      "1\n",
      "2\n",
      "3\n",
      "4\n",
      "5\n"
     ]
    }
   ],
   "source": [
    "#Iterate over an Array\n",
    "import array\n",
    "numbers = array.array('i',[1,2,3,4,5])\n",
    "for number in numbers:\n",
    "    print(number)"
   ]
  },
  {
   "cell_type": "markdown",
   "id": "6414cb5e",
   "metadata": {},
   "source": [
    "## Numpy"
   ]
  },
  {
   "cell_type": "markdown",
   "id": "8399f96d",
   "metadata": {},
   "source": [
    "Supports N-dimensional Arrays"
   ]
  },
  {
   "cell_type": "markdown",
   "id": "2a889421",
   "metadata": {},
   "source": [
    "## 1.Create"
   ]
  },
  {
   "cell_type": "code",
   "execution_count": 7,
   "id": "fd358cf3",
   "metadata": {},
   "outputs": [
    {
     "name": "stdout",
     "output_type": "stream",
     "text": [
      "Requirement already satisfied: numpy in c:\\users\\imdan\\anaconda3\\lib\\site-packages (1.24.3)\n"
     ]
    }
   ],
   "source": [
    "!pip install numpy"
   ]
  },
  {
   "cell_type": "code",
   "execution_count": 8,
   "id": "ddd8e84f",
   "metadata": {},
   "outputs": [],
   "source": [
    "import numpy as np"
   ]
  },
  {
   "cell_type": "code",
   "execution_count": null,
   "id": "7cf97dad",
   "metadata": {},
   "outputs": [],
   "source": [
    "zero_dim = np.arry(23124124)\n",
    "one_dim = np.array([1,2,3])\n",
    "two_dim = [[1,2,3,4],[1,2,2,2]] #np.array([1,2,3],[4,5,6])\n",
    "three_dim = np.array([[[1,2,3],[4,5,6]], [[7,8,9],[10,11,12]]]) # number of brackets = number of dimensions\n",
    "#finds the dim of given array\n",
    "print(three_dim.ndim) "
   ]
  },
  {
   "cell_type": "code",
   "execution_count": 15,
   "id": "6757b04b",
   "metadata": {},
   "outputs": [],
   "source": [
    "data = np.random.rand(2,3,4)\n",
    "zeroes = np.zeros((2,2,2,))\n",
    "full = np.full ((2,2,2,),7)\n",
    "ones = np.ones((2,2,2))"
   ]
  },
  {
   "cell_type": "code",
   "execution_count": 26,
   "id": "cbbafbf5",
   "metadata": {},
   "outputs": [
    {
     "data": {
      "text/plain": [
       "array([[[0.44814338, 0.48925635, 0.38330105, 0.90774724],\n",
       "        [0.50803669, 0.93715877, 0.09790248, 0.20817877],\n",
       "        [0.38235379, 0.35903626, 0.07946772, 0.05781362]],\n",
       "\n",
       "       [[0.71834698, 0.71712285, 0.73097744, 0.09250205],\n",
       "        [0.6985343 , 0.29283683, 0.40373008, 0.72132016],\n",
       "        [0.00917601, 0.42636467, 0.99878894, 0.57664137]]])"
      ]
     },
     "execution_count": 26,
     "metadata": {},
     "output_type": "execute_result"
    }
   ],
   "source": [
    "data\n",
    "#2 total arrays, 3 arrays, 4 values in each array"
   ]
  },
  {
   "cell_type": "code",
   "execution_count": 27,
   "id": "bf66acd0",
   "metadata": {},
   "outputs": [
    {
     "data": {
      "text/plain": [
       "array([[[0., 0.],\n",
       "        [0., 0.]],\n",
       "\n",
       "       [[0., 0.],\n",
       "        [0., 0.]]])"
      ]
     },
     "execution_count": 27,
     "metadata": {},
     "output_type": "execute_result"
    }
   ],
   "source": [
    "zeroes"
   ]
  },
  {
   "cell_type": "code",
   "execution_count": 28,
   "id": "a67efa33",
   "metadata": {},
   "outputs": [
    {
     "data": {
      "text/plain": [
       "array([[[7, 7],\n",
       "        [7, 7]],\n",
       "\n",
       "       [[7, 7],\n",
       "        [7, 7]]])"
      ]
     },
     "execution_count": 28,
     "metadata": {},
     "output_type": "execute_result"
    }
   ],
   "source": [
    "full"
   ]
  },
  {
   "cell_type": "code",
   "execution_count": 29,
   "id": "17853a2a",
   "metadata": {},
   "outputs": [
    {
     "data": {
      "text/plain": [
       "array([[[1., 1.],\n",
       "        [1., 1.]],\n",
       "\n",
       "       [[1., 1.],\n",
       "        [1., 1.]]])"
      ]
     },
     "execution_count": 29,
     "metadata": {},
     "output_type": "execute_result"
    }
   ],
   "source": [
    "ones"
   ]
  },
  {
   "cell_type": "code",
   "execution_count": 17,
   "id": "c41d16cb",
   "metadata": {},
   "outputs": [],
   "source": [
    "arr = np.array([[1,2,3,4],[1,2,3,4]])"
   ]
  },
  {
   "cell_type": "code",
   "execution_count": 18,
   "id": "682357cb",
   "metadata": {},
   "outputs": [
    {
     "data": {
      "text/plain": [
       "array([[1, 2, 3, 4],\n",
       "       [1, 2, 3, 4]])"
      ]
     },
     "execution_count": 18,
     "metadata": {},
     "output_type": "execute_result"
    }
   ],
   "source": [
    "arr"
   ]
  },
  {
   "cell_type": "markdown",
   "id": "639489a9",
   "metadata": {},
   "source": [
    "## 2.Read"
   ]
  },
  {
   "cell_type": "code",
   "execution_count": 19,
   "id": "74c47272",
   "metadata": {},
   "outputs": [],
   "source": [
    "#Attributes\n",
    "shape = data.shape\n",
    "size = data.size\n",
    "types = data.dtype"
   ]
  },
  {
   "cell_type": "code",
   "execution_count": 20,
   "id": "6518a1ac",
   "metadata": {},
   "outputs": [
    {
     "data": {
      "text/plain": [
       "(2, 3, 4)"
      ]
     },
     "execution_count": 20,
     "metadata": {},
     "output_type": "execute_result"
    }
   ],
   "source": [
    "shape"
   ]
  },
  {
   "cell_type": "code",
   "execution_count": 21,
   "id": "1bbe2572",
   "metadata": {},
   "outputs": [
    {
     "data": {
      "text/plain": [
       "24"
      ]
     },
     "execution_count": 21,
     "metadata": {},
     "output_type": "execute_result"
    }
   ],
   "source": [
    "size"
   ]
  },
  {
   "cell_type": "code",
   "execution_count": 22,
   "id": "33c4ac81",
   "metadata": {},
   "outputs": [
    {
     "data": {
      "text/plain": [
       "dtype('float64')"
      ]
     },
     "execution_count": 22,
     "metadata": {},
     "output_type": "execute_result"
    }
   ],
   "source": [
    "types"
   ]
  },
  {
   "cell_type": "code",
   "execution_count": 23,
   "id": "506329af",
   "metadata": {},
   "outputs": [],
   "source": [
    "# Slicing\n",
    "arr = data[0]\n",
    "slicer = data[0:2]\n",
    "reverse = data [-1]\n",
    "singleval = data [0][0][0]"
   ]
  },
  {
   "cell_type": "code",
   "execution_count": 24,
   "id": "e2408e1a",
   "metadata": {},
   "outputs": [
    {
     "data": {
      "text/plain": [
       "array([[0.71834698, 0.71712285, 0.73097744, 0.09250205],\n",
       "       [0.6985343 , 0.29283683, 0.40373008, 0.72132016],\n",
       "       [0.00917601, 0.42636467, 0.99878894, 0.57664137]])"
      ]
     },
     "execution_count": 24,
     "metadata": {},
     "output_type": "execute_result"
    }
   ],
   "source": [
    "reverse"
   ]
  },
  {
   "cell_type": "code",
   "execution_count": 25,
   "id": "76041b78",
   "metadata": {},
   "outputs": [
    {
     "data": {
      "text/plain": [
       "array([[0.44814338, 0.48925635, 0.38330105, 0.90774724],\n",
       "       [0.50803669, 0.93715877, 0.09790248, 0.20817877],\n",
       "       [0.38235379, 0.35903626, 0.07946772, 0.05781362]])"
      ]
     },
     "execution_count": 25,
     "metadata": {},
     "output_type": "execute_result"
    }
   ],
   "source": [
    "arr"
   ]
  },
  {
   "cell_type": "code",
   "execution_count": 30,
   "id": "b1dc1080",
   "metadata": {},
   "outputs": [
    {
     "data": {
      "text/plain": [
       "0.44814338112913943"
      ]
     },
     "execution_count": 30,
     "metadata": {},
     "output_type": "execute_result"
    }
   ],
   "source": [
    "singleval #can be used to specifically point out an item"
   ]
  },
  {
   "cell_type": "code",
   "execution_count": 31,
   "id": "1b7e270b",
   "metadata": {},
   "outputs": [
    {
     "data": {
      "text/plain": [
       "array([[[0.44814338, 0.48925635, 0.38330105, 0.90774724],\n",
       "        [0.50803669, 0.93715877, 0.09790248, 0.20817877],\n",
       "        [0.38235379, 0.35903626, 0.07946772, 0.05781362]],\n",
       "\n",
       "       [[0.71834698, 0.71712285, 0.73097744, 0.09250205],\n",
       "        [0.6985343 , 0.29283683, 0.40373008, 0.72132016],\n",
       "        [0.00917601, 0.42636467, 0.99878894, 0.57664137]]])"
      ]
     },
     "execution_count": 31,
     "metadata": {},
     "output_type": "execute_result"
    }
   ],
   "source": [
    "data"
   ]
  },
  {
   "cell_type": "markdown",
   "id": "1282bdb5",
   "metadata": {},
   "source": [
    "## 3.Update"
   ]
  },
  {
   "cell_type": "code",
   "execution_count": 33,
   "id": "830d1aa1",
   "metadata": {},
   "outputs": [],
   "source": [
    "list1 = np.random.rand(10)\n",
    "list2 = np.random.rand(10)"
   ]
  },
  {
   "cell_type": "code",
   "execution_count": 39,
   "id": "1a70adb7",
   "metadata": {},
   "outputs": [
    {
     "data": {
      "text/plain": [
       "array([0.53930934, 0.73304711, 0.73092226, 0.79185752, 0.03147413,\n",
       "       0.56306907, 0.45301019, 0.63482234, 0.04588669, 0.23200607])"
      ]
     },
     "execution_count": 39,
     "metadata": {},
     "output_type": "execute_result"
    }
   ],
   "source": [
    "list1"
   ]
  },
  {
   "cell_type": "code",
   "execution_count": 34,
   "id": "85bd2a80",
   "metadata": {},
   "outputs": [
    {
     "data": {
      "text/plain": [
       "array([0.67218248, 0.18598312, 0.16927693, 0.05565325, 0.53574521,\n",
       "       0.59823079, 0.32945977, 0.20494978, 0.00935111, 0.63627134])"
      ]
     },
     "execution_count": 34,
     "metadata": {},
     "output_type": "execute_result"
    }
   ],
   "source": [
    "list2"
   ]
  },
  {
   "cell_type": "code",
   "execution_count": 37,
   "id": "636596a5",
   "metadata": {},
   "outputs": [],
   "source": [
    "# Basic math\n",
    "add = np.add(list1,list2)\n",
    "sub = np.subtract(list1,list2)\n",
    "div = np.divide(list1,list2)\n",
    "mult = np.multiply(list1,list2)\n",
    "dot =np.dot(list1,list2)"
   ]
  },
  {
   "cell_type": "code",
   "execution_count": 38,
   "id": "c4ea13b0",
   "metadata": {},
   "outputs": [
    {
     "data": {
      "text/plain": [
       "array([1.21149182, 0.91903024, 0.90019919, 0.84751077, 0.56721934,\n",
       "       1.16129986, 0.78246996, 0.83977212, 0.0552378 , 0.86827741])"
      ]
     },
     "execution_count": 38,
     "metadata": {},
     "output_type": "execute_result"
    }
   ],
   "source": [
    "add"
   ]
  },
  {
   "cell_type": "code",
   "execution_count": 48,
   "id": "0953b00a",
   "metadata": {},
   "outputs": [],
   "source": [
    "# Stat Functions (SAPLEMM)\n",
    "sqrt = np.sqrt(25)\n",
    "ab = np.abs (-2)\n",
    "power = np.power (2,7)\n",
    "log = np.log(25)\n",
    "exp = np.exp([2,3])\n",
    "mins = np.min(list1)\n",
    "maxs = np.max(list1)"
   ]
  },
  {
   "cell_type": "code",
   "execution_count": null,
   "id": "34fdf927",
   "metadata": {},
   "outputs": [],
   "source": []
  }
 ],
 "metadata": {
  "kernelspec": {
   "display_name": "Python 3 (ipykernel)",
   "language": "python",
   "name": "python3"
  },
  "language_info": {
   "codemirror_mode": {
    "name": "ipython",
    "version": 3
   },
   "file_extension": ".py",
   "mimetype": "text/x-python",
   "name": "python",
   "nbconvert_exporter": "python",
   "pygments_lexer": "ipython3",
   "version": "3.11.3"
  }
 },
 "nbformat": 4,
 "nbformat_minor": 5
}
