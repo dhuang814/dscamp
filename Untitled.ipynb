{
 "cells": [
  {
   "cell_type": "code",
   "execution_count": 5,
   "id": "2ac4b4c3",
   "metadata": {},
   "outputs": [],
   "source": [
    "import pandas as pd\n",
    "import sqlite3\n",
    "import sqlalchemy \n",
    "\n",
    "try:\n",
    "    conn = sqlite3.connect(\"sqlite_db_pythonsqlite.db\")    \n",
    "except Exception as e:\n",
    "    print(e)"
   ]
  },
  {
   "cell_type": "code",
   "execution_count": 6,
   "id": "ca30aae2",
   "metadata": {},
   "outputs": [
    {
     "ename": "AttributeError",
     "evalue": "'sqlite3.Connection' object has no attribute 'table_names'",
     "output_type": "error",
     "traceback": [
      "\u001b[1;31m---------------------------------------------------------------------------\u001b[0m",
      "\u001b[1;31mAttributeError\u001b[0m                            Traceback (most recent call last)",
      "Cell \u001b[1;32mIn[6], line 1\u001b[0m\n\u001b[1;32m----> 1\u001b[0m table_names \u001b[38;5;241m=\u001b[39m conn\u001b[38;5;241m.\u001b[39mtable_names()\n\u001b[0;32m      2\u001b[0m \u001b[38;5;28mprint\u001b[39m(table_names)\n",
      "\u001b[1;31mAttributeError\u001b[0m: 'sqlite3.Connection' object has no attribute 'table_names'"
     ]
    }
   ],
   "source": [
    "table_names = conn.table_names()\n",
    "print(table_names)"
   ]
  },
  {
   "cell_type": "code",
   "execution_count": 6,
   "id": "ae0c1fc0",
   "metadata": {},
   "outputs": [],
   "source": [
    "import pandas as pd\n",
    "from sqlite3 import Error\n",
    "import sqlalchemy "
   ]
  },
  {
   "cell_type": "code",
   "execution_count": 7,
   "id": "cc8b8f27",
   "metadata": {},
   "outputs": [
    {
     "name": "stdout",
     "output_type": "stream",
     "text": [
      "unable to open database file\n"
     ]
    },
    {
     "ename": "TypeError",
     "evalue": "'NoneType' object does not support the context manager protocol",
     "output_type": "error",
     "traceback": [
      "\u001b[1;31m---------------------------------------------------------------------------\u001b[0m",
      "\u001b[1;31mTypeError\u001b[0m                                 Traceback (most recent call last)",
      "Cell \u001b[1;32mIn[7], line 47\u001b[0m\n\u001b[0;32m     43\u001b[0m         select_all_tasks(conn)\n\u001b[0;32m     46\u001b[0m \u001b[38;5;28;01mif\u001b[39;00m \u001b[38;5;18m__name__\u001b[39m \u001b[38;5;241m==\u001b[39m \u001b[38;5;124m'\u001b[39m\u001b[38;5;124m__main__\u001b[39m\u001b[38;5;124m'\u001b[39m:\n\u001b[1;32m---> 47\u001b[0m     main()\n",
      "Cell \u001b[1;32mIn[7], line 41\u001b[0m, in \u001b[0;36mmain\u001b[1;34m()\u001b[0m\n\u001b[0;32m     39\u001b[0m \u001b[38;5;66;03m# create a database connection\u001b[39;00m\n\u001b[0;32m     40\u001b[0m conn \u001b[38;5;241m=\u001b[39m create_connection(database)\n\u001b[1;32m---> 41\u001b[0m \u001b[38;5;28;01mwith\u001b[39;00m conn: \n\u001b[0;32m     42\u001b[0m     \u001b[38;5;28mprint\u001b[39m(\u001b[38;5;124m\"\u001b[39m\u001b[38;5;124m2. Query all tasks\u001b[39m\u001b[38;5;124m\"\u001b[39m)\n\u001b[0;32m     43\u001b[0m     select_all_tasks(conn)\n",
      "\u001b[1;31mTypeError\u001b[0m: 'NoneType' object does not support the context manager protocol"
     ]
    }
   ],
   "source": [
    "import sqlite3\n",
    "\n",
    "# Connect to the SQLite database file\n",
    "conn = sqlite3.connect('sqlite_db_pythonsqlite.db')\n",
    "\n",
    "# Create a cursor object to execute SQL commands\n",
    "cursor = conn.cursor()\n",
    "\n",
    "# Example: Execute a SQL query\n",
    "cursor.execute('SELECT * FROM your_table')\n",
    "rows = cursor.fetchall()\n",
    "\n",
    "# Example: Iterate over the rows and print them\n",
    "for row in rows:\n",
    "    print(row)\n",
    "\n",
    "# Don't forget to close the cursor and connection when done\n",
    "cursor.close()\n",
    "conn.close()"
   ]
  },
  {
   "cell_type": "code",
   "execution_count": null,
   "id": "ec12afa5",
   "metadata": {},
   "outputs": [],
   "source": []
  }
 ],
 "metadata": {
  "kernelspec": {
   "display_name": "Python 3 (ipykernel)",
   "language": "python",
   "name": "python3"
  },
  "language_info": {
   "codemirror_mode": {
    "name": "ipython",
    "version": 3
   },
   "file_extension": ".py",
   "mimetype": "text/x-python",
   "name": "python",
   "nbconvert_exporter": "python",
   "pygments_lexer": "ipython3",
   "version": "3.11.3"
  }
 },
 "nbformat": 4,
 "nbformat_minor": 5
}
