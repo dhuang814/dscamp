{
 "cells": [
  {
   "cell_type": "markdown",
   "id": "bde49f9d",
   "metadata": {},
   "source": [
    "## Functions"
   ]
  },
  {
   "cell_type": "code",
   "execution_count": 1,
   "id": "f523585e",
   "metadata": {},
   "outputs": [],
   "source": [
    "def f():\n",
    "    pass"
   ]
  },
  {
   "cell_type": "code",
   "execution_count": 2,
   "id": "528393d9",
   "metadata": {},
   "outputs": [],
   "source": [
    "f()"
   ]
  },
  {
   "cell_type": "code",
   "execution_count": 3,
   "id": "549bbe3a",
   "metadata": {},
   "outputs": [],
   "source": [
    "f"
   ]
  },
  {
   "cell_type": "code",
   "execution_count": 21,
   "id": "12ce8999",
   "metadata": {},
   "outputs": [
    {
     "name": "stdout",
     "output_type": "stream",
     "text": [
      "this is outside the function\n"
     ]
    }
   ],
   "source": [
    "def f1():\n",
    "    print(\"AHHHH\")\n",
    "    print(\"AHHHHH HELP ME\")\n",
    "print(\"this is outside the function\") #needs to be blocked by indent"
   ]
  },
  {
   "cell_type": "code",
   "execution_count": 22,
   "id": "65baff5a",
   "metadata": {},
   "outputs": [
    {
     "name": "stdout",
     "output_type": "stream",
     "text": [
      "AHHHH\n",
      "AHHHHH HELP ME\n"
     ]
    }
   ],
   "source": [
    "f1()"
   ]
  },
  {
   "cell_type": "code",
   "execution_count": 23,
   "id": "2051ba90",
   "metadata": {},
   "outputs": [],
   "source": [
    "def f2(x):\n",
    "    return 2* x"
   ]
  },
  {
   "cell_type": "code",
   "execution_count": 24,
   "id": "02951927",
   "metadata": {},
   "outputs": [
    {
     "data": {
      "text/plain": [
       "4"
      ]
     },
     "execution_count": 24,
     "metadata": {},
     "output_type": "execute_result"
    }
   ],
   "source": [
    "f2(2)"
   ]
  },
  {
   "cell_type": "code",
   "execution_count": 25,
   "id": "857b9416",
   "metadata": {},
   "outputs": [
    {
     "name": "stdout",
     "output_type": "stream",
     "text": [
      "4\n"
     ]
    }
   ],
   "source": [
    "print(f2(2))"
   ]
  },
  {
   "cell_type": "markdown",
   "id": "5bf8f739",
   "metadata": {},
   "source": [
    "## Example 1: defining Ping"
   ]
  },
  {
   "cell_type": "code",
   "execution_count": 1,
   "id": "b9e98a4c",
   "metadata": {},
   "outputs": [],
   "source": [
    "def ping():\n",
    "    return \"Ping!\""
   ]
  },
  {
   "cell_type": "code",
   "execution_count": 2,
   "id": "d89983be",
   "metadata": {},
   "outputs": [
    {
     "data": {
      "text/plain": [
       "'Ping!'"
      ]
     },
     "execution_count": 2,
     "metadata": {},
     "output_type": "execute_result"
    }
   ],
   "source": [
    "ping()"
   ]
  },
  {
   "cell_type": "code",
   "execution_count": 3,
   "id": "4b97ab54",
   "metadata": {},
   "outputs": [],
   "source": [
    "x = ping()"
   ]
  },
  {
   "cell_type": "code",
   "execution_count": 4,
   "id": "38d5f7ca",
   "metadata": {},
   "outputs": [
    {
     "name": "stdout",
     "output_type": "stream",
     "text": [
      "Ping!\n"
     ]
    }
   ],
   "source": [
    "print(x)"
   ]
  },
  {
   "cell_type": "markdown",
   "id": "3c1a391c",
   "metadata": {},
   "source": [
    "## Example 2: Required Arguments (default argument)"
   ]
  },
  {
   "cell_type": "code",
   "execution_count": 5,
   "id": "782b7e1a",
   "metadata": {},
   "outputs": [],
   "source": [
    "import math"
   ]
  },
  {
   "cell_type": "code",
   "execution_count": 9,
   "id": "a8637c17",
   "metadata": {},
   "outputs": [],
   "source": [
    "dir(math)\n",
    "#note that 'pi' is prt of math directory"
   ]
  },
  {
   "cell_type": "code",
   "execution_count": 6,
   "id": "30d036fa",
   "metadata": {},
   "outputs": [
    {
     "data": {
      "text/plain": [
       "3.141592653589793"
      ]
     },
     "execution_count": 6,
     "metadata": {},
     "output_type": "execute_result"
    }
   ],
   "source": [
    "math.pi"
   ]
  },
  {
   "cell_type": "code",
   "execution_count": 7,
   "id": "346c9781",
   "metadata": {},
   "outputs": [],
   "source": [
    "def volume(r):\n",
    "    \"\"\"Returns the volume of a sphere with radius.\"\"\"\n",
    "    v = (4.0/3.0) * math.pi * r**3\n",
    "    return v\n",
    "#note that 4.0/3.0 has to be in decimal format "
   ]
  },
  {
   "cell_type": "code",
   "execution_count": 8,
   "id": "017256e6",
   "metadata": {},
   "outputs": [
    {
     "data": {
      "text/plain": [
       "33.510321638291124"
      ]
     },
     "execution_count": 8,
     "metadata": {},
     "output_type": "execute_result"
    }
   ],
   "source": [
    "volume(2)"
   ]
  },
  {
   "cell_type": "code",
   "execution_count": 9,
   "id": "b6ba9972",
   "metadata": {},
   "outputs": [
    {
     "name": "stdout",
     "output_type": "stream",
     "text": [
      "Help on function volume in module __main__:\n",
      "\n",
      "volume(r)\n",
      "    Returns the volume of a sphere with radius.\n",
      "\n"
     ]
    }
   ],
   "source": [
    "help(volume)"
   ]
  },
  {
   "cell_type": "code",
   "execution_count": 10,
   "id": "01359981",
   "metadata": {},
   "outputs": [],
   "source": [
    "def triangle_area(b,h):\n",
    "    \"\"\"returns the area of a trianle with base b and height\"\"\"\n",
    "    return 0.5 * b * h"
   ]
  },
  {
   "cell_type": "code",
   "execution_count": 11,
   "id": "bd7c8a2a",
   "metadata": {},
   "outputs": [
    {
     "data": {
      "text/plain": [
       "10.0"
      ]
     },
     "execution_count": 11,
     "metadata": {},
     "output_type": "execute_result"
    }
   ],
   "source": [
    "triangle_area(5,4)"
   ]
  },
  {
   "cell_type": "markdown",
   "id": "7839fd13",
   "metadata": {},
   "source": [
    "## Example 3: Keyword Argument (non-default argument)"
   ]
  },
  {
   "cell_type": "code",
   "execution_count": 12,
   "id": "1522f5a6",
   "metadata": {},
   "outputs": [],
   "source": [
    "def cm(feet = 0, inches = 0): #note equal sign, we are assigning a default value of 0 to each arguemnt\n",
    "    \"\"\"convert a length from feet and inches to centimeters.\"\"\"\n",
    "    inches_to_cm = inches * 2.54\n",
    "    feet_to_cm = feet * 12 *2.54\n",
    "    return inches_to_cm + feet_to_cm\n",
    "    #could be written more compact but this way is easier to read as opposed to a compact code"
   ]
  },
  {
   "cell_type": "code",
   "execution_count": 26,
   "id": "373ceb28",
   "metadata": {},
   "outputs": [
    {
     "data": {
      "text/plain": [
       "0.0"
      ]
     },
     "execution_count": 26,
     "metadata": {},
     "output_type": "execute_result"
    }
   ],
   "source": [
    "cm()"
   ]
  },
  {
   "cell_type": "code",
   "execution_count": 13,
   "id": "03204fd5",
   "metadata": {},
   "outputs": [
    {
     "data": {
      "text/plain": [
       "152.4"
      ]
     },
     "execution_count": 13,
     "metadata": {},
     "output_type": "execute_result"
    }
   ],
   "source": [
    "cm(feet = 5)"
   ]
  },
  {
   "cell_type": "code",
   "execution_count": 14,
   "id": "37e98007",
   "metadata": {},
   "outputs": [
    {
     "data": {
      "text/plain": [
       "182.88"
      ]
     },
     "execution_count": 14,
     "metadata": {},
     "output_type": "execute_result"
    }
   ],
   "source": [
    "cm(inches = 72)"
   ]
  },
  {
   "cell_type": "code",
   "execution_count": 15,
   "id": "91319223",
   "metadata": {},
   "outputs": [
    {
     "data": {
      "text/plain": [
       "101.6"
      ]
     },
     "execution_count": 15,
     "metadata": {},
     "output_type": "execute_result"
    }
   ],
   "source": [
    "cm(feet = 3, inches = 4)"
   ]
  },
  {
   "cell_type": "code",
   "execution_count": 16,
   "id": "01544080",
   "metadata": {},
   "outputs": [
    {
     "data": {
      "text/plain": [
       "101.6"
      ]
     },
     "execution_count": 16,
     "metadata": {},
     "output_type": "execute_result"
    }
   ],
   "source": [
    "cm(inches = 4, feet =3)"
   ]
  },
  {
   "cell_type": "markdown",
   "id": "189f12bb",
   "metadata": {},
   "source": [
    "Keyword arguments help you write flexible functions and clean code"
   ]
  },
  {
   "cell_type": "markdown",
   "id": "96e25ddc",
   "metadata": {},
   "source": [
    "## Example 3: Combination"
   ]
  },
  {
   "cell_type": "code",
   "execution_count": 17,
   "id": "2b2b931d",
   "metadata": {},
   "outputs": [
    {
     "ename": "SyntaxError",
     "evalue": "non-default argument follows default argument (2821911720.py, line 2)",
     "output_type": "error",
     "traceback": [
      "\u001b[1;36m  Cell \u001b[1;32mIn[17], line 2\u001b[1;36m\u001b[0m\n\u001b[1;33m    def g(x = 2, y):\u001b[0m\n\u001b[1;37m                 ^\u001b[0m\n\u001b[1;31mSyntaxError\u001b[0m\u001b[1;31m:\u001b[0m non-default argument follows default argument\n"
     ]
    }
   ],
   "source": [
    "#default argument always comes first\n",
    "def g(x = 2, y):\n",
    "    return x+y"
   ]
  },
  {
   "cell_type": "code",
   "execution_count": 18,
   "id": "74a4a318",
   "metadata": {},
   "outputs": [],
   "source": [
    "def g(y,x = 2):\n",
    "    return x+y"
   ]
  },
  {
   "cell_type": "code",
   "execution_count": 19,
   "id": "4d2feb3f",
   "metadata": {},
   "outputs": [
    {
     "data": {
      "text/plain": [
       "7"
      ]
     },
     "execution_count": 19,
     "metadata": {},
     "output_type": "execute_result"
    }
   ],
   "source": [
    "g(5)\n",
    "#keyword argument are not needed, because default value of the keyword arguemnt(non-defauly argument) is "
   ]
  },
  {
   "cell_type": "code",
   "execution_count": 20,
   "id": "5987c7c4",
   "metadata": {},
   "outputs": [
    {
     "data": {
      "text/plain": [
       "7"
      ]
     },
     "execution_count": 20,
     "metadata": {},
     "output_type": "execute_result"
    }
   ],
   "source": [
    "g(5, x = 2)"
   ]
  },
  {
   "cell_type": "markdown",
   "id": "5ae8047b",
   "metadata": {},
   "source": [
    "## Mini-Project: BMI Calculator"
   ]
  },
  {
   "cell_type": "code",
   "execution_count": 36,
   "id": "2650a298",
   "metadata": {},
   "outputs": [],
   "source": [
    "name1 = 'YK'\n",
    "height_m1 = 2\n",
    "weight_kg1 = 90\n",
    "\n",
    "name2 = \"YK's Sister\"\n",
    "height_m2 = 1.8\n",
    "weight_kg2 = 70\n",
    "\n",
    "name3 = \"YK's brother\"\n",
    "height_m3 = 2.5\n",
    "weight_kg3 = 160 \n"
   ]
  },
  {
   "cell_type": "code",
   "execution_count": 37,
   "id": "74bc68bd",
   "metadata": {},
   "outputs": [],
   "source": [
    "def bmi_calculator(name,height_m,weight_kg):\n",
    "    bmi = weight_kg / (height_m ** 2)\n",
    "    print(\"bmi: \")\n",
    "    print(bmi)\n",
    "    if bmi < 25:\n",
    "        return name + \" is not overweight\"\n",
    "    else: \n",
    "        return name + \" is overweight\""
   ]
  },
  {
   "cell_type": "code",
   "execution_count": 38,
   "id": "6ed2520a",
   "metadata": {},
   "outputs": [
    {
     "name": "stdout",
     "output_type": "stream",
     "text": [
      "bmi: \n",
      "22.5\n",
      "bmi: \n",
      "21.604938271604937\n",
      "bmi: \n",
      "25.6\n"
     ]
    }
   ],
   "source": [
    "result1 = bmi_calculator(name1,height_m1,weight_kg1)\n",
    "result2 = bmi_calculator(name2,height_m2,weight_kg2)\n",
    "result3 = bmi_calculator(name3,height_m3,weight_kg3)"
   ]
  },
  {
   "cell_type": "code",
   "execution_count": 39,
   "id": "669cbc3d",
   "metadata": {},
   "outputs": [
    {
     "name": "stdout",
     "output_type": "stream",
     "text": [
      "YK is not overweight\n",
      "YK's Sister is not overweight\n",
      "YK's brother is overweight\n"
     ]
    }
   ],
   "source": [
    "print(result1)\n",
    "print(result2)\n",
    "print(result3)"
   ]
  },
  {
   "cell_type": "code",
   "execution_count": null,
   "id": "55e8a43b",
   "metadata": {},
   "outputs": [],
   "source": []
  }
 ],
 "metadata": {
  "kernelspec": {
   "display_name": "Python 3 (ipykernel)",
   "language": "python",
   "name": "python3"
  },
  "language_info": {
   "codemirror_mode": {
    "name": "ipython",
    "version": 3
   },
   "file_extension": ".py",
   "mimetype": "text/x-python",
   "name": "python",
   "nbconvert_exporter": "python",
   "pygments_lexer": "ipython3",
   "version": "3.11.3"
  }
 },
 "nbformat": 4,
 "nbformat_minor": 5
}
